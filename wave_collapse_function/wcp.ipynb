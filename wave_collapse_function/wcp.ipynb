{
 "cells": [
  {
   "cell_type": "code",
   "execution_count": null,
   "metadata": {},
   "outputs": [
    {
     "ename": "",
     "evalue": "",
     "output_type": "error",
     "traceback": [
      "\u001b[1;31mRunning cells with 'gameDev' requires the ipykernel package.\n",
      "\u001b[1;31mRun the following command to install 'ipykernel' into the Python environment. \n",
      "\u001b[1;31mCommand: 'conda install -n gameDev ipykernel --update-deps --force-reinstall'"
     ]
    }
   ],
   "source": [
    "#tile map doumentation : https://pygame.readthedocs.io/en/latest/tiles/tiles.html"
   ]
  }
 ],
 "metadata": {
  "kernelspec": {
   "display_name": "gameDev",
   "language": "python",
   "name": "python3"
  },
  "language_info": {
   "name": "python",
   "version": "3.12.0"
  }
 },
 "nbformat": 4,
 "nbformat_minor": 2
}
