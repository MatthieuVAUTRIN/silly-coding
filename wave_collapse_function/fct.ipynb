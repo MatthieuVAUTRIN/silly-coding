{
 "cells": [
  {
   "cell_type": "code",
   "execution_count": 19,
   "metadata": {},
   "outputs": [
    {
     "name": "stdout",
     "output_type": "stream",
     "text": [
      "[[2 8 8 6 3 3 6 7 3 3]\n",
      " [4 6 9 3 3 9 8 9 9 5]\n",
      " [6 7 7 7 6 6 9 4 4 7]\n",
      " [2 8 6 4 7 4 9 9 4 3]\n",
      " [6 3 4 6 9 8 8 9 4 8]\n",
      " [9 8 9 4 4 4 7 8 7 2]\n",
      " [5 9 7 4 3 3 4 7 8 7]\n",
      " [8 2 9 7 2 2 3 6 2 5]\n",
      " [8 9 6 9 7 7 9 2 7 5]\n",
      " [8 4 2 2 4 3 6 7 4 4]]\n"
     ]
    },
    {
     "data": {
      "text/plain": [
       "[[(0, 0), 2],\n",
       " [(3, 0), 2],\n",
       " [(5, 9), 2],\n",
       " [(7, 1), 2],\n",
       " [(7, 4), 2],\n",
       " [(7, 5), 2],\n",
       " [(7, 8), 2],\n",
       " [(8, 7), 2],\n",
       " [(9, 2), 2],\n",
       " [(9, 3), 2]]"
      ]
     },
     "execution_count": 19,
     "metadata": {},
     "output_type": "execute_result"
    }
   ],
   "source": [
    "import numpy as np\n",
    "\n",
    "def findLowestEntropy(array):\n",
    "    lowestEntropy = float('inf')\n",
    "    lowestEntropyArray = []\n",
    "    for i in range(len(array)):\n",
    "        for j, entropy in enumerate(array[i]):\n",
    "            if entropy < lowestEntropy:\n",
    "                lowestEntropyArray = []\n",
    "                lowestEntropy = array[i][j]\n",
    "                lowestEntropyArray.append([(i,j), lowestEntropy])\n",
    "            elif (entropy == lowestEntropy):\n",
    "                lowestEntropyArray.append([(i,j), lowestEntropy])\n",
    "    return lowestEntropyArray\n",
    "\n",
    "def initializeArray(array):\n",
    "    for i in range(len(array)):\n",
    "        for j in range(len(array[i])):\n",
    "            array[i][j] = np.random.randint(2,10)\n",
    "    return array\n",
    "\n",
    "randomArray = np.random.randint(2,10,size=(10,10))\n",
    "\n",
    "print(randomArray)\n",
    "\n",
    "findLowestEntropy(randomArray)"
   ]
  },
  {
   "cell_type": "code",
   "execution_count": 24,
   "metadata": {},
   "outputs": [
    {
     "ename": "TypeError",
     "evalue": "Cannot interpret '10' as a data type",
     "output_type": "error",
     "traceback": [
      "\u001b[1;31m---------------------------------------------------------------------------\u001b[0m",
      "\u001b[1;31mTypeError\u001b[0m                                 Traceback (most recent call last)",
      "Cell \u001b[1;32mIn[24], line 1\u001b[0m\n\u001b[1;32m----> 1\u001b[0m map_data \u001b[38;5;241m=\u001b[39m \u001b[43mnp\u001b[49m\u001b[38;5;241;43m.\u001b[39;49m\u001b[43mempty\u001b[49m\u001b[43m(\u001b[49m\u001b[38;5;241;43m10\u001b[39;49m\u001b[43m,\u001b[49m\u001b[43m \u001b[49m\u001b[38;5;241;43m10\u001b[39;49m\u001b[43m)\u001b[49m\u001b[38;5;241m.\u001b[39mfill(\u001b[38;5;241m5\u001b[39m)\n\u001b[0;32m      2\u001b[0m \u001b[38;5;28mprint\u001b[39m(map_data)\n",
      "\u001b[1;31mTypeError\u001b[0m: Cannot interpret '10' as a data type"
     ]
    }
   ],
   "source": [
    "map_data = np.full((10, 10),5)\n",
    "print(map_data)"
   ]
  }
 ],
 "metadata": {
  "kernelspec": {
   "display_name": "gameDev",
   "language": "python",
   "name": "python3"
  },
  "language_info": {
   "codemirror_mode": {
    "name": "ipython",
    "version": 3
   },
   "file_extension": ".py",
   "mimetype": "text/x-python",
   "name": "python",
   "nbconvert_exporter": "python",
   "pygments_lexer": "ipython3",
   "version": "3.12.0"
  }
 },
 "nbformat": 4,
 "nbformat_minor": 2
}
